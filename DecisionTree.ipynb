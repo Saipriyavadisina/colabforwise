{
  "nbformat": 4,
  "nbformat_minor": 0,
  "metadata": {
    "colab": {
      "name": "DecisionTree.ipynb",
      "provenance": [],
      "collapsed_sections": [],
      "include_colab_link": true
    },
    "kernelspec": {
      "name": "python3",
      "display_name": "Python 3"
    }
  },
  "cells": [
    {
      "cell_type": "markdown",
      "metadata": {
        "id": "view-in-github",
        "colab_type": "text"
      },
      "source": [
        "<a href=\"https://colab.research.google.com/github/Saipriyavadisina/colabforwise/blob/main/DecisionTree.ipynb\" target=\"_parent\"><img src=\"https://colab.research.google.com/assets/colab-badge.svg\" alt=\"Open In Colab\"/></a>"
      ]
    },
    {
      "cell_type": "markdown",
      "metadata": {
        "id": "lbKAe2vu39tA"
      },
      "source": [
        "## Objectives\n",
        "\n",
        "At the end of the experiment you will be able to\n",
        "\n",
        "* understand Decision Tree algorithm\n",
        "* apply Decision tree on any dataset to learn insights from the dataset"
      ]
    },
    {
      "cell_type": "markdown",
      "metadata": {
        "id": "oKtXv4eX4T3j"
      },
      "source": [
        "## Dataset\n",
        "\n",
        "The dataset choosen for this experiment is hotel booking dataset. The dataset contains 43917 samples and 32 columns. The target variable in the dataset is **is_canceled**"
      ]
    },
    {
      "cell_type": "code",
      "metadata": {
        "id": "31xXt_0-q4So",
        "colab": {
          "base_uri": "https://localhost:8080/"
        },
        "outputId": "4e3d1808-6b86-456c-bb3c-f88848248dfd"
      },
      "source": [
        "# Run this cell to download the dataset\n",
        "!wget https://cdn.talentsprint.com/aiml/Wise/hotel_bookings.csv"
      ],
      "execution_count": 2,
      "outputs": [
        {
          "output_type": "stream",
          "name": "stdout",
          "text": [
            "--2022-04-26 18:22:10--  https://cdn.talentsprint.com/aiml/Wise/hotel_bookings.csv\n",
            "Resolving cdn.talentsprint.com (cdn.talentsprint.com)... 172.105.34.236\n",
            "Connecting to cdn.talentsprint.com (cdn.talentsprint.com)|172.105.34.236|:443... connected.\n",
            "HTTP request sent, awaiting response... 302 Moved Temporarily\n",
            "Location: https://cdn.ap-south-1.linodeobjects.com/public_html/aiml/Wise/hotel_bookings.csv [following]\n",
            "--2022-04-26 18:22:11--  https://cdn.ap-south-1.linodeobjects.com/public_html/aiml/Wise/hotel_bookings.csv\n",
            "Resolving cdn.ap-south-1.linodeobjects.com (cdn.ap-south-1.linodeobjects.com)... 172.104.52.240, 172.104.36.102, 103.3.61.236, ...\n",
            "Connecting to cdn.ap-south-1.linodeobjects.com (cdn.ap-south-1.linodeobjects.com)|172.104.52.240|:443... connected.\n",
            "HTTP request sent, awaiting response... 200 OK\n",
            "Length: 16855599 (16M) [text/csv]\n",
            "Saving to: ‘hotel_bookings.csv.1’\n",
            "\n",
            "hotel_bookings.csv. 100%[===================>]  16.07M  5.67MB/s    in 2.8s    \n",
            "\n",
            "2022-04-26 18:22:14 (5.67 MB/s) - ‘hotel_bookings.csv.1’ saved [16855599/16855599]\n",
            "\n"
          ]
        }
      ]
    },
    {
      "cell_type": "markdown",
      "metadata": {
        "id": "zL6wGJXfEAvD"
      },
      "source": [
        "### Exercise 1\n",
        "\n",
        "Importing necessary libraries"
      ]
    },
    {
      "cell_type": "code",
      "metadata": {
        "id": "8YbwA0WzEEZ1"
      },
      "source": [
        "# YOUR CODE HERE\n",
        "import pandas as pd\n",
        "from sklearn.tree import DecisionTreeClassifier \n",
        "from sklearn.model_selection import train_test_split\n",
        "from sklearn import metrics"
      ],
      "execution_count": null,
      "outputs": []
    },
    {
      "cell_type": "markdown",
      "metadata": {
        "id": "z9--tRCVEE7Q"
      },
      "source": [
        "### Exercise 2\n",
        "\n",
        "Load the dataset"
      ]
    },
    {
      "cell_type": "code",
      "metadata": {
        "id": "GXCyjGkrEJlO"
      },
      "source": [
        "# YOUR CODE HERE\n",
        "col_names = ['pregnant', 'glucose', 'bp', 'skin', 'insulin', 'bmi', 'pedigree', 'age', 'label']\n",
        "pima = pd.read_csv(\"pima-indians-diabetes.csv\", header=None, names=col_names)"
      ],
      "execution_count": null,
      "outputs": []
    },
    {
      "cell_type": "markdown",
      "metadata": {
        "id": "PQxQGQkNELHz"
      },
      "source": [
        "### Exercise 3\n",
        "\n",
        "Convert all categorical values into numeric"
      ]
    },
    {
      "cell_type": "code",
      "metadata": {
        "id": "w3Y90iW_EKbz"
      },
      "source": [
        "# YOUR CODE HERE"
      ],
      "execution_count": null,
      "outputs": []
    },
    {
      "cell_type": "markdown",
      "metadata": {
        "id": "m2f54aHXEk7I"
      },
      "source": [
        "### Exercise 4\n",
        "\n",
        "Remove unwanted coloumns"
      ]
    },
    {
      "cell_type": "code",
      "metadata": {
        "id": "SNh9zSF2Enbf"
      },
      "source": [
        "# YOUR CODE HERE"
      ],
      "execution_count": null,
      "outputs": []
    },
    {
      "cell_type": "markdown",
      "metadata": {
        "id": "78jEKRHdEphr"
      },
      "source": [
        "### Exercise 5\n",
        "\n",
        "Divide the dataset into train and test sets"
      ]
    },
    {
      "cell_type": "code",
      "metadata": {
        "id": "Spg8QS7REs7h"
      },
      "source": [
        "# YOUR CODE HERE"
      ],
      "execution_count": null,
      "outputs": []
    },
    {
      "cell_type": "markdown",
      "metadata": {
        "id": "i5ETuZvQEvat"
      },
      "source": [
        "### Exercise 6\n",
        "\n",
        "Apply decision tree alogrithm to predict the target variable"
      ]
    },
    {
      "cell_type": "code",
      "metadata": {
        "id": "WBJredDCE0e9"
      },
      "source": [
        "# YOUR CODE HERE"
      ],
      "execution_count": null,
      "outputs": []
    },
    {
      "cell_type": "markdown",
      "metadata": {
        "id": "8VnREE7ME1PI"
      },
      "source": [
        "### Exercise 7\n",
        "\n",
        "What happens if you choose criterion as \"Entropy\"?"
      ]
    },
    {
      "cell_type": "code",
      "metadata": {
        "id": "D1y3NOuEFNO6"
      },
      "source": [
        "# YOUR CODE HERE"
      ],
      "execution_count": null,
      "outputs": []
    }
  ]
}